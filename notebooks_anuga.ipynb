{
  "nbformat": 4,
  "nbformat_minor": 0,
  "metadata": {
    "colab": {
      "name": "Copy of notebooks/anuga.ipynb",
      "provenance": [],
      "collapsed_sections": [],
      "include_colab_link": true
    },
    "kernelspec": {
      "name": "python2",
      "display_name": "Python 2"
    }
  },
  "cells": [
    {
      "cell_type": "markdown",
      "metadata": {
        "id": "view-in-github",
        "colab_type": "text"
      },
      "source": [
        "<a href=\"https://colab.research.google.com/github/littlebiggeo/csdms-clinic-2020/blob/master/notebooks_anuga.ipynb\" target=\"_parent\"><img src=\"https://colab.research.google.com/assets/colab-badge.svg\" alt=\"Open In Colab\"/></a>"
      ]
    },
    {
      "cell_type": "markdown",
      "metadata": {
        "id": "MFkDMm10DPK7",
        "colab_type": "text"
      },
      "source": [
        "# CSDMS HRT Data-Model Integration Workshop\n",
        "\n",
        "## Use of ANUGA in Flood Modeling\n",
        "\n",
        "Modeling flooding in the San Luis Mountains \n"
      ]
    },
    {
      "cell_type": "markdown",
      "metadata": {
        "id": "Dt-Ti7kdQX3C",
        "colab_type": "text"
      },
      "source": [
        "## Setup the Environment\n",
        "\n",
        "Run the following cell to install the dependencies and some extra code for visualising on Colaboratory.\n",
        "\n",
        "Wait until you see the comment *(5) Ready to go* before proceeding to subsequent commands. "
      ]
    },
    {
      "cell_type": "code",
      "metadata": {
        "id": "xdCgMgk7_ZcW",
        "colab_type": "code",
        "colab": {}
      },
      "source": [
        "try:\n",
        "  # On colab we can install all the packages we need via the notebook\n",
        "  #\n",
        "  # First download the clinic repository\n",
        "  import os\n",
        "  os.chdir('/content')\n",
        "  !git clone https://github.com/littlebiggeo/csdms-clinic-2020.git\n",
        "\n",
        "  # Now install environment using tool\n",
        "  !/bin/bash /content/csdms-clinic-2020/anuga/install_anuga.sh\n",
        " \n",
        "except:\n",
        "  pass\n",
        "\n",
        "if not 'workbookDir' in globals():\n",
        "    workbookDir = os.getcwd()\n",
        "\n",
        "import sys\n",
        "sys.path.append(os.path.join(workbookDir,\"csdms-clinic-2020\"))"
      ],
      "execution_count": 0,
      "outputs": []
    },
    {
      "cell_type": "markdown",
      "metadata": {
        "id": "bWOxaRmEDg4p",
        "colab_type": "text"
      },
      "source": [
        "## Setup Inline graphics and import anuga"
      ]
    },
    {
      "cell_type": "code",
      "metadata": {
        "id": "hUT6s7gXDA95",
        "colab_type": "code",
        "colab": {}
      },
      "source": [
        "import numpy as np\n",
        "import matplotlib.pyplot as plt\n",
        "\n",
        "%matplotlib inline\n",
        "\n",
        "# Allow inline jshtml animations\n",
        "from matplotlib import rc\n",
        "rc('animation', html='jshtml')"
      ],
      "execution_count": 0,
      "outputs": []
    },
    {
      "cell_type": "markdown",
      "metadata": {
        "id": "15yi1XYR9wpG",
        "colab_type": "text"
      },
      "source": [
        "## Import ANUGA"
      ]
    },
    {
      "cell_type": "code",
      "metadata": {
        "id": "OSlhVDrx-Bay",
        "colab_type": "code",
        "colab": {}
      },
      "source": [
        "import anuga"
      ],
      "execution_count": 0,
      "outputs": []
    },
    {
      "cell_type": "markdown",
      "metadata": {
        "id": "p_QOy0bRZ37C",
        "colab_type": "text"
      },
      "source": [
        "## Read in Data\n",
        "\n",
        "We have included some topography data and extent data in our `csdms-clinic-2020` download. \n",
        "\n",
        "Let's read that in and create a mesh associated with it. "
      ]
    },
    {
      "cell_type": "code",
      "metadata": {
        "id": "nCKdVO1BPAhx",
        "colab_type": "code",
        "colab": {}
      },
      "source": [
        "data_dir = '/content/csdms-clinic-2020/data/sanluis'\n",
        "\n",
        "# Polygon defining broad area of interest\n",
        "bounding_polygon = anuga.read_polygon(os.path.join(data_dir,'extent.csv'))\n",
        "\n",
        "\n",
        "# Polygon defining particular area of interest\n",
        "channel_polygon = anuga.read_polygon(os.path.join(data_dir,'channel.csv'))\n",
        "\n",
        "\n",
        "# Elevation Data\n",
        "topography_file = os.path.join(data_dir,'dem1.asc')\n",
        "\n",
        "\n",
        "# Resolution for most of the mesh\n",
        "base_resolution = 100.0  # m^2\n",
        "\n",
        "# Resolution in particular area of interest \n",
        "channel_resolution = 25.0 # m^2\n",
        "\n",
        "interior_regions = [[channel_polygon, channel_resolution]]"
      ],
      "execution_count": 0,
      "outputs": []
    },
    {
      "cell_type": "markdown",
      "metadata": {
        "id": "mfgw_HkDarZY",
        "colab_type": "text"
      },
      "source": [
        "## Create and View Domain\n",
        "\n",
        "\n",
        "Note that we use a base_resolution to ensure a reasonable refinement overthe whole region, and we use interior_regions to refine the mesh in the area of interest. In this case we pass a list of polygon, resolution pairs. "
      ]
    },
    {
      "cell_type": "code",
      "metadata": {
        "id": "Bb2oWmRraSU6",
        "colab_type": "code",
        "colab": {}
      },
      "source": [
        "domain = anuga.create_domain_from_regions(\n",
        "            bounding_polygon,\n",
        "            boundary_tags={'bottom': [0],\n",
        "                           'right':  [1],\n",
        "                           'top':    [2],\n",
        "                           'left':   [3]},\n",
        "            maximum_triangle_area=base_resolution,\n",
        "            interior_regions=interior_regions)\n",
        "\n",
        "\n",
        "domain.set_name('sanluis') # Name of sww file\n",
        "dplotter = anuga.Domain_plotter(domain)  \n",
        "plt.triplot(dplotter.triang, linewidth = 0.1);"
      ],
      "execution_count": 0,
      "outputs": []
    },
    {
      "cell_type": "markdown",
      "metadata": {
        "id": "ZGGxHd8EEvea",
        "colab_type": "text"
      },
      "source": [
        "## Setup Initial Conditions\n",
        "\n",
        "We must choose friction and stage values and populate our mesh with elevation. In this case we will do this using the DEM file `dem1.asc` .\n",
        "\n"
      ]
    },
    {
      "cell_type": "code",
      "metadata": {
        "id": "xLn6Mozrnedv",
        "colab_type": "code",
        "colab": {}
      },
      "source": [
        "domain.set_quantity('elevation', filename=topography_file, location='centroids') # Use function for elevation\n",
        "domain.set_quantity('friction', 0.015, location='centroids')                        # Constant friction \n",
        "domain.set_quantity('stage', expression='elevation', location='centroids')         # Dry Bed \n",
        "\n",
        "plt.tripcolor(dplotter.triang, \n",
        "              facecolors = dplotter.elev, \n",
        "              cmap='Greys_r')\n",
        "plt.colorbar();\n",
        "plt.title(\"Elevation\");"
      ],
      "execution_count": 0,
      "outputs": []
    },
    {
      "cell_type": "markdown",
      "metadata": {
        "id": "jlgKD23QvDhF",
        "colab_type": "text"
      },
      "source": [
        "## Setup Boundary Conditions\n",
        "\n",
        "The rectangular domain has 4 tagged boundaries, left, top, right and bottom. We need to set boundary conditons for each of these tagged boundaries. We can set Transmissive type BC on the outflow boundaries and reflective on the others. "
      ]
    },
    {
      "cell_type": "code",
      "metadata": {
        "id": "rF7q2bzOn64K",
        "colab_type": "code",
        "colab": {}
      },
      "source": [
        "Br = anuga.Reflective_boundary(domain)\n",
        "Bt = anuga.Transmissive_boundary(domain)\n",
        "\n",
        "domain.set_boundary({'bottom':   Br,\n",
        "                     'right':    Bt, # outflow\n",
        "                     'top':      Br, # outflow\n",
        "                     'left':     Bt})"
      ],
      "execution_count": 0,
      "outputs": []
    },
    {
      "cell_type": "markdown",
      "metadata": {
        "id": "kSoqioIwYQcX",
        "colab_type": "text"
      },
      "source": [
        "## Set discharge operator\n",
        "\n",
        "We specify a constant discharge condition at the upstream boundary"
      ]
    },
    {
      "cell_type": "code",
      "metadata": {
        "id": "KxLx34vhZIRC",
        "colab_type": "code",
        "colab": {}
      },
      "source": [
        "# Setup discharge inlet\n",
        "center = (448046.0, 4055577.0)\n",
        "radius = 5.0\n",
        "region0 = anuga.Region(domain, center=center, radius=radius)\n",
        "fixed_inflow = anuga.Inlet_operator(domain, region0 , Q=200)"
      ],
      "execution_count": 0,
      "outputs": []
    },
    {
      "cell_type": "markdown",
      "metadata": {
        "id": "YRJs8HbRwLfM",
        "colab_type": "text"
      },
      "source": [
        "## Run the Evolution\n",
        "\n",
        "We evolve using a `for` statement, which evolves the quantities using the shallow water wave solver. The calculation `yields` every `yieldstep` seconds, up to a given `duration`."
      ]
    },
    {
      "cell_type": "code",
      "metadata": {
        "id": "3yxIDXQiH3XN",
        "colab_type": "code",
        "colab": {}
      },
      "source": [
        "for t in domain.evolve(yieldstep=5, duration=200):\n",
        "  \n",
        "    #dplotter.plot_depth_frame()\n",
        "    dplotter.save_depth_frame(vmin=0.0, vmax=3.0)\n",
        "    \n",
        "    domain.print_timestepping_statistics()\n",
        "\n",
        "    \n",
        "# Read in the png files stored during the evolve loop\n",
        "dplotter.make_depth_animation() "
      ],
      "execution_count": 0,
      "outputs": []
    },
    {
      "cell_type": "markdown",
      "metadata": {
        "id": "iYqp9_LkU2Ve",
        "colab_type": "text"
      },
      "source": [
        "## SWW File\n",
        "\n",
        "Plot maximum depth and speed at the last time slice of the .sww file"
      ]
    },
    {
      "cell_type": "code",
      "metadata": {
        "id": "FnkApd1GPe7t",
        "colab_type": "code",
        "colab": {}
      },
      "source": [
        "# Create a wrapper for contents of sww file\n",
        "swwfile = 'sanluis.sww'\n",
        "splotter = anuga.SWW_plotter(swwfile)\n",
        "\n",
        "\n",
        "# Plot Depth and Speed at the last time slice\n",
        "plt.subplot(121)\n",
        "splotter.triang.set_mask(None)\n",
        "plt.tripcolor(splotter.triang, \n",
        "              facecolors = splotter.depth[-1,:], \n",
        "              cmap='viridis')\n",
        "\n",
        "plt.title(\"Depth\")\n",
        "\n",
        "\n",
        "plt.subplot(122)\n",
        "splotter.triang.set_mask(None)\n",
        "plt.tripcolor(splotter.triang, \n",
        "              facecolors = splotter.speed[-1,:], \n",
        "              cmap='viridis')\n",
        "\n",
        "plt.title(\"Speed\");\n"
      ],
      "execution_count": 0,
      "outputs": []
    },
    {
      "cell_type": "markdown",
      "metadata": {
        "id": "YQIzXk6PYvgd",
        "colab_type": "text"
      },
      "source": [
        "### Monitor stage at chosen locations\n",
        "\n",
        "The data file ObservationPoints.csv contains synthetic gauge locations that we can use to query flow characteristics throughout the model"
      ]
    },
    {
      "cell_type": "code",
      "metadata": {
        "id": "3_v8qFMxWWZq",
        "colab_type": "code",
        "colab": {}
      },
      "source": [
        "point_observations = np.genfromtxt(\n",
        "    os.path.join(data_dir,'ObservationPoints.csv'),\n",
        "    delimiter=\",\",skip_header=1)\n",
        "\n",
        "# Convert to absolute corrdinates\n",
        "xc = splotter.xc + splotter.xllcorner\n",
        "yc = splotter.yc + splotter.yllcorner\n",
        "\n",
        "nearest_points = []\n",
        "for row in point_observations:\n",
        "    nearest_points.append(np.argmin( (xc-row[0])**2 + (yc-row[1])**2 ))\n",
        " \n",
        "loc_id = point_observations[:,2]\n",
        "\n",
        "fig, ax = plt.subplots()\n",
        "ax.plot(loc_id, splotter.stage[-1,nearest_points], '*g', label='Anuga')\n",
        "\n",
        "plt.xticks(range(0,5))\n",
        "plt.xlabel('ID')\n",
        "plt.ylabel('Stage')\n",
        "ax.legend()\n",
        "\n",
        "plt.show()\n"
      ],
      "execution_count": 0,
      "outputs": []
    },
    {
      "cell_type": "markdown",
      "metadata": {
        "id": "1HaKkAcgiRc5",
        "colab_type": "text"
      },
      "source": [
        "### Run model again with differing friction\n"
      ]
    },
    {
      "cell_type": "code",
      "metadata": {
        "id": "MxM92-6iiXYD",
        "colab_type": "code",
        "colab": {}
      },
      "source": [
        "# Resolution for most of the mesh\n",
        "base_resolution = 200.0  # m^2\n",
        "\n",
        "# Resolution in particular area of interest \n",
        "channel_resolution = 25.0 # m^2\n",
        "\n",
        "domain = anuga.create_domain_from_regions(\n",
        "            bounding_polygon,\n",
        "            boundary_tags={'bottom': [0],\n",
        "                           'right':  [1],\n",
        "                           'top':    [2],\n",
        "                           'left':   [3]},\n",
        "            maximum_triangle_area=base_resolution,)\n",
        "\n",
        "\n",
        "domain.set_name('sanluis2') # Name of sww file\n",
        "domain.set_low_froude(1)\n",
        "\n",
        "# Setup Initial Conditions\n",
        "domain.set_quantity('elevation', filename=topography_file, location='centroids') # Use function for elevation\n",
        "domain.set_quantity('friction', 0.02, location='centroids')                        # Constant friction \n",
        "domain.set_quantity('stage', expression='elevation', location='centroids')         # Dry Bed \n",
        "\n",
        "# Setup BC\n",
        "Br = anuga.Reflective_boundary(domain)\n",
        "Bt = anuga.Transmissive_boundary(domain)\n",
        "\n",
        "\n",
        "# NOTE: We need to assign a BC to the interior boundary region.\n",
        "domain.set_boundary({'bottom':   Br,\n",
        "                     'right':    Bt, # outflow\n",
        "                     'top':      Br, \n",
        "                     'left':     Bt, # outflow\n",
        "                     'interior': Br})\n",
        "\n",
        "\n",
        "# Setup inlet flow\n",
        "center = (448046.0, 4055577.0)\n",
        "radius = 5.0\n",
        "region0 = anuga.Region(domain, center=center, radius=radius)\n",
        "fixed_inflow = anuga.Inlet_operator(domain, region0 , Q=200)\n",
        "\n",
        "\n",
        "dplotter = anuga.Domain_plotter(domain)  \n",
        "plt.triplot(dplotter.triang, linewidth = 0.1);"
      ],
      "execution_count": 0,
      "outputs": []
    },
    {
      "cell_type": "markdown",
      "metadata": {
        "id": "vmI7UTWAfcCL",
        "colab_type": "text"
      },
      "source": [
        "### Evolve"
      ]
    },
    {
      "cell_type": "code",
      "metadata": {
        "id": "Ktd2SqLL46WR",
        "colab_type": "code",
        "colab": {}
      },
      "source": [
        "for t in domain.evolve(yieldstep=5, duration=200):\n",
        "  \n",
        "    #dplotter.plot_depth_frame()\n",
        "    dplotter.save_depth_frame(vmin=0.0, vmax=3)\n",
        "    \n",
        "    domain.print_timestepping_statistics()\n",
        "\n",
        "    \n",
        "# Read in the png files stored during the evolve loop\n",
        "dplotter.make_depth_animation() "
      ],
      "execution_count": 0,
      "outputs": []
    },
    {
      "cell_type": "markdown",
      "metadata": {
        "id": "Jhc2maOJlSRf",
        "colab_type": "text"
      },
      "source": [
        "### Read in SWW File and Compare\n",
        " "
      ]
    },
    {
      "cell_type": "code",
      "metadata": {
        "id": "PeZ0LxtkJPLR",
        "colab_type": "code",
        "colab": {}
      },
      "source": [
        "# Create a wrapper for contents of sww file\n",
        "swwfile2 = 'sanluis2.sww'\n",
        "splotter2 = anuga.SWW_plotter(swwfile2)\n",
        "\n",
        "# Convert to absolute corrdinates\n",
        "xc = splotter2.xc + splotter2.xllcorner\n",
        "yc = splotter2.yc + splotter2.yllcorner\n",
        "\n",
        "nearest_points_2 = []\n",
        "for row in point_observations:\n",
        "    nearest_points_2.append(np.argmin( (xc-row[0])**2 + (yc-row[1])**2 ))\n",
        " \n",
        "loc_id = point_observations[:,2]\n",
        "\n",
        "fig, ax = plt.subplots()\n",
        "ax.plot(loc_id, splotter2.stage[-1,nearest_points_2], '*g', label='Anuga1')\n",
        "ax.plot(loc_id, splotter.stage[-1,nearest_points], '*k', label='Anuga0')\n",
        "\n",
        "\n",
        "plt.xticks(range(0,5))\n",
        "plt.xlabel('ID')\n",
        "plt.ylabel('Stage')\n",
        "ax.legend()\n",
        "\n",
        "plt.show()"
      ],
      "execution_count": 0,
      "outputs": []
    },
    {
      "cell_type": "code",
      "metadata": {
        "id": "M8FvRSxIfvtS",
        "colab_type": "code",
        "colab": {}
      },
      "source": [
        ""
      ],
      "execution_count": 0,
      "outputs": []
    },
    {
      "cell_type": "markdown",
      "metadata": {
        "id": "U58VBVfFnaRZ",
        "colab_type": "text"
      },
      "source": [
        "[Next Notebook](https://colab.research.google.com/github/stoiver/anuga-clinic-2018/blob/master/notebooks/notebook3.ipynb)"
      ]
    }
  ]
}